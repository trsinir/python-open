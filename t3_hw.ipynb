{
 "cells": [
  {
   "cell_type": "markdown",
   "id": "c73b9788",
   "metadata": {},
   "source": [
    "**Python Final\n",
    "\n",
    "Amacımız DCMotor sınıfına ait create_model fonksiyonunu tamamlamak. Bu fonksiyon dc motorun matematiksel modelini durum uzay gösteriminde modele ekleyecek."
   ]
  },
  {
   "cell_type": "markdown",
   "id": "3f6a8669",
   "metadata": {},
   "source": [
    "1 - create_model fonksiyonunu tamamlayın."
   ]
  },
  {
   "cell_type": "code",
   "execution_count": null,
   "id": "a0c790c4",
   "metadata": {},
   "outputs": [],
   "source": [
    "class DCMotor:\n",
    "    def __init__(self, x):\n",
    "        self.params = x     \n",
    "        \n",
    "    def create_model(self):\n",
    "        self.A = np.array([[-self.params['B'] / self.params['J'], \n",
    "                            self.params['Ke']/self.params['J']],\n",
    "                           [-self.params['Ke'] / self.params['L'],\n",
    "                            -self.params['R'] / self.params['L']]])\n",
    "        \n",
    "        self.B = np.array([0,1/self.params['L']]).reshape((2,1))\n",
    "        \n",
    "        self.C = ..."
   ]
  },
  {
   "cell_type": "markdown",
   "id": "47fa4e1c",
   "metadata": {},
   "source": [
    "https://ctms.engin.umich.edu/CTMS/index.php?example=MotorSpeed&section=SystemModeling\n",
    "\n",
    "Kaynakta (8) ve (9) ile verilen denklemlerin hesaplanması gerekiyor. Amacımız belirli bir süre DC motor simülasyonu gerçekleştirmek. Zaman adımı olarak dt değişkenini kullanacağız. dt 0.01 sn olacak. Toplam simülasyon süresi ts değişkeni ile belirtilecek. Örneğin ts = 4 olsun. Saniyede 100 hesaplama, toplamda 400 hesaplama gerçekleştirilecek. Tüm zaman adımlarını bir np.array değişkeninde tutuyoruz. Zaman değişkeni sim_time olarak isimlendiriliyor. Kullandığımız fonksiyon np.arange.\n",
    "\n",
    "np.arange(x0,x1,dx) gibi üç parametre alıyor. x0'dan başlamak üzere x1e kadar dx adımlarla artan bir dizi oluşturuyor. sim_time değişkeni 0.01 aralıklarla 4'e kadar artan sayılardan oluşan 400 boyutunda bir np.array olarak oluşturuldu. Daha sonra sim_time vektöründeki her bir zaman (t) için simülasyonu for döngüsü içinde yapacağız."
   ]
  },
  {
   "cell_type": "code",
   "execution_count": null,
   "id": "2ab5ff6a",
   "metadata": {},
   "outputs": [],
   "source": [
    "dt = 0.01\n",
    "ts = 4\n",
    "\n",
    "sim_time = np.arange(0,ts,dt)\n",
    "\n",
    "for t in sim_time:\n",
    "    pass"
   ]
  },
  {
   "cell_type": "markdown",
   "id": "ee501998",
   "metadata": {},
   "source": [
    "2 - simülasyon için kaynaktaki (8) ve (9) numaralı denklemleri inceleyin. Durum vektörümüz motorun hızı (theta'nın türevi) ve motordaki akım (i). Denklemlerde bu durum vektörünün A matrisi ile çarpıldığı görülüyor. Yani denklemleri düzenlersek, durum vektörü x ile gösterildiğinde\n",
    "\n",
    "(8) -> dx/dt = Ax + BV \n",
    "\n",
    "denklem bu şekile dönüşüyor. A ve B matrisleri DCMotor sınıfına tanımlanmıştı. V değişkeni motorun gerilimi ve bizim sistemimizin giriş verisi. Bu denklemi hesaplamak için x vektörünün ilk zaman adımından önceki değerleri de gerekiyor.  Bu nedenle ikisi de 0 olacak şekilde bir x0 tanımlıyoruz. Vektör 2 satır 1 sütun!"
   ]
  },
  {
   "cell_type": "code",
   "execution_count": null,
   "id": "a4ad60f1",
   "metadata": {},
   "outputs": [],
   "source": [
    "x0 = np.zeros((2,1))"
   ]
  },
  {
   "cell_type": "markdown",
   "id": "7a81f19e",
   "metadata": {},
   "source": [
    "3 - Bu aşamada sizden istenen DCMotor sınıfına response isimli bir fonksiyon yazmanız. Bu fonksiyon giriş olarak x0 değişkenini ve V değişkenini alacak. Çıkış olarak durum vektörünün türevi olan dx/dt yi hesaplayacak. Bu değişkeninin adı dx olsun. Yazdığınız fonksiyon bu değişkeni hesaplamalı ve geri döndürmeli."
   ]
  },
  {
   "cell_type": "markdown",
   "id": "bb4b1e9a",
   "metadata": {},
   "source": []
  }
 ],
 "metadata": {
  "kernelspec": {
   "display_name": "Python 3 (ipykernel)",
   "language": "python",
   "name": "python3"
  },
  "language_info": {
   "codemirror_mode": {
    "name": "ipython",
    "version": 3
   },
   "file_extension": ".py",
   "mimetype": "text/x-python",
   "name": "python",
   "nbconvert_exporter": "python",
   "pygments_lexer": "ipython3",
   "version": "3.8.13"
  }
 },
 "nbformat": 4,
 "nbformat_minor": 5
}
