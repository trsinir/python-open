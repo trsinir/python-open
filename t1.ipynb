{
 "cells": [
  {
   "cell_type": "markdown",
   "id": "025a0b70",
   "metadata": {},
   "source": [
    "TRSinir Python Notları\n",
    "15 Aralık 2022"
   ]
  },
  {
   "cell_type": "markdown",
   "id": "37251fa7",
   "metadata": {},
   "source": [
    "Temel Fikirler\n",
    "\n",
    "* Fonksiyon\n",
    "Yinelenmesi gereken kod blokları kaynak kodunda mümkün olan en kısa şekilde gösterilebilir. Fonksiyonlar \"def\" ile tanımlanır. Aşağıda g1, g2 ve g3 olarak isimlendirilen üç giriş ve w1, w2, w3 olarak isimlendirilen üç ağırlık ile oluşturulmuş bir aktivasyon fonksiyonu tanımlanmıştır. Bu foknsiyon ağırlıklı toplamın belirli bir eşik değerinden büyük olmasına göre çıkış üretmektedir. Çıkış \"return\" ile döndürülmektedir."
   ]
  },
  {
   "cell_type": "code",
   "execution_count": null,
   "id": "bf86958f",
   "metadata": {},
   "outputs": [],
   "source": [
    "def aktivasyon(g1, g2, g3, w1, w2, w3):\n",
    "    t = w1*g1 + w2*g2 + w3*g3\n",
    "    if t > -30:\n",
    "        return 1\n",
    "    else:\n",
    "        return 0"
   ]
  },
  {
   "cell_type": "markdown",
   "id": "7c64cbd5",
   "metadata": {},
   "source": [
    "* Döngüler\n",
    "Döngüler"
   ]
  },
  {
   "cell_type": "code",
   "execution_count": null,
   "id": "2cf8bf09",
   "metadata": {},
   "outputs": [],
   "source": [
    "index_listesi = [1, 2, 3]\n",
    "\n",
    "for idx in index_listesi:\n",
    "    print(idx)"
   ]
  },
  {
   "cell_type": "markdown",
   "id": "281e3c4f",
   "metadata": {},
   "source": [
    "* Sınıflar\n",
    "Sınıf yapısı"
   ]
  },
  {
   "cell_type": "code",
   "execution_count": null,
   "id": "9cccd1e7",
   "metadata": {},
   "outputs": [],
   "source": [
    "class Network:\n",
    "    def __init__(self):\n",
    "        pass"
   ]
  }
 ],
 "metadata": {
  "kernelspec": {
   "display_name": "Python 3 (ipykernel)",
   "language": "python",
   "name": "python3"
  },
  "language_info": {
   "codemirror_mode": {
    "name": "ipython",
    "version": 3
   },
   "file_extension": ".py",
   "mimetype": "text/x-python",
   "name": "python",
   "nbconvert_exporter": "python",
   "pygments_lexer": "ipython3",
   "version": "3.8.13"
  }
 },
 "nbformat": 4,
 "nbformat_minor": 5
}
