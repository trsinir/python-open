{
 "cells": [
  {
   "cell_type": "markdown",
   "id": "d76d54c4",
   "metadata": {},
   "source": [
    "Containerlere devam: list, dict, -> tuple,  set?"
   ]
  },
  {
   "cell_type": "code",
   "execution_count": null,
   "id": "7e7ac630",
   "metadata": {},
   "outputs": [],
   "source": []
  },
  {
   "cell_type": "markdown",
   "id": "97da73d3",
   "metadata": {},
   "source": [
    "Numpy Efficiency"
   ]
  },
  {
   "cell_type": "code",
   "execution_count": null,
   "id": "ffcd6367",
   "metadata": {},
   "outputs": [],
   "source": []
  },
  {
   "cell_type": "markdown",
   "id": "d5fee61c",
   "metadata": {},
   "source": [
    "Scipy"
   ]
  },
  {
   "cell_type": "code",
   "execution_count": null,
   "id": "b33d7358",
   "metadata": {},
   "outputs": [],
   "source": []
  },
  {
   "cell_type": "markdown",
   "id": "b0e75b81",
   "metadata": {},
   "source": [
    "Pandas"
   ]
  },
  {
   "cell_type": "code",
   "execution_count": null,
   "id": "5f4dfea3",
   "metadata": {},
   "outputs": [],
   "source": []
  },
  {
   "cell_type": "code",
   "execution_count": null,
   "id": "e2b17981",
   "metadata": {},
   "outputs": [],
   "source": [
    "Opencv"
   ]
  },
  {
   "cell_type": "markdown",
   "id": "9b8ac2ab",
   "metadata": {},
   "source": []
  },
  {
   "cell_type": "markdown",
   "id": "641b8ee7",
   "metadata": {},
   "source": []
  }
 ],
 "metadata": {
  "kernelspec": {
   "display_name": "Python 3 (ipykernel)",
   "language": "python",
   "name": "python3"
  },
  "language_info": {
   "codemirror_mode": {
    "name": "ipython",
    "version": 3
   },
   "file_extension": ".py",
   "mimetype": "text/x-python",
   "name": "python",
   "nbconvert_exporter": "python",
   "pygments_lexer": "ipython3",
   "version": "3.8.13"
  }
 },
 "nbformat": 4,
 "nbformat_minor": 5
}
