{
 "cells": [
  {
   "cell_type": "markdown",
   "id": "a01ba49f",
   "metadata": {},
   "source": [
    "Class Örneği\n",
    "Dc motor sim"
   ]
  },
  {
   "cell_type": "code",
   "execution_count": null,
   "id": "7998ac1c",
   "metadata": {},
   "outputs": [],
   "source": [
    "class DCMotor:\n",
    "    def __init__(self):\n",
    "        pass"
   ]
  },
  {
   "cell_type": "markdown",
   "id": "29bf8014",
   "metadata": {},
   "source": [
    "Class değişkenleri"
   ]
  },
  {
   "cell_type": "code",
   "execution_count": null,
   "id": "f7ec3aed",
   "metadata": {},
   "outputs": [],
   "source": [
    "class DCMotor:\n",
    "    R = 1\n",
    "    L = 0.5\n",
    "    def __init__(self):\n",
    "        pass\n",
    "    \n",
    "motor_ana = DCMotor()\n",
    "motor_ust = DCMotor()\n",
    "\n",
    "print(DCMotor.R)\n",
    "print(motor_ust.L)"
   ]
  },
  {
   "cell_type": "markdown",
   "id": "9a5e6055",
   "metadata": {},
   "source": [
    "Instance özellikleri"
   ]
  },
  {
   "cell_type": "code",
   "execution_count": null,
   "id": "37201393",
   "metadata": {},
   "outputs": [],
   "source": [
    "class DCMotor:\n",
    "    def __init__(self):\n",
    "        self.R = 1\n",
    "        self.L = 0.5\n",
    "    \n",
    "motor_ana = DCMotor()\n",
    "motor_ust = DCMotor()"
   ]
  },
  {
   "cell_type": "markdown",
   "id": "77a1cf36",
   "metadata": {},
   "source": [
    "Parametreleri nerede tutacağız?"
   ]
  },
  {
   "cell_type": "code",
   "execution_count": null,
   "id": "c1707e38",
   "metadata": {},
   "outputs": [],
   "source": [
    "class DCMotor:\n",
    "    def __init__(self, res, ind):\n",
    "        self.R = res\n",
    "        self.L = ind\n",
    "    \n",
    "motor_ana = DCMotor(res=1, ind=0.5)\n",
    "motor_ust = DCMotor(2, 0.38)"
   ]
  },
  {
   "cell_type": "markdown",
   "id": "beb00de7",
   "metadata": {},
   "source": [
    "Birden fazla parametre?"
   ]
  },
  {
   "cell_type": "code",
   "execution_count": null,
   "id": "04e9e9cf",
   "metadata": {},
   "outputs": [],
   "source": [
    "class DCMotor:\n",
    "    def __init__(self, x):\n",
    "        self.params = x     \n",
    "        \n",
    "    def create_model(self):\n",
    "        self.A = np.array([[-self.params['B'] / self.params['J'], \n",
    "                            self.params['Ke']/self.params['J']],\n",
    "                           [-self.params['Ke'] / self.params['L'],\n",
    "                            -self.params['R'] / self.params['L']]])\n",
    "\n",
    "params_ana = {'J': 0.01,\n",
    "              'B': 0.1,\n",
    "              'Ke': 0.01,\n",
    "              'Kt': 0.01,\n",
    "              'R': 1,\n",
    "              'L': 0.5}\n",
    "\n",
    "params_ust = {'J': 0.02,\n",
    "              'B': 0.1,\n",
    "              'Ke': 0.07,\n",
    "              'Kt': 0.01,\n",
    "              'R': 1,\n",
    "              'L': 0.1}\n",
    "\n",
    "motor_ana = DCMotor(params_ana)\n",
    "motor_ust = DCMotor(params_ust)\n",
    "\n",
    "\n",
    "motor_ana.create_model()"
   ]
  },
  {
   "cell_type": "markdown",
   "id": "8c9b9288",
   "metadata": {},
   "source": [
    "Sınıf fonksiyonları"
   ]
  },
  {
   "cell_type": "code",
   "execution_count": null,
   "id": "2e2c4035",
   "metadata": {},
   "outputs": [],
   "source": [
    "# https://ctms.engin.umich.edu/CTMS/index.php?example=MotorSpeed&section=SystemModeling\n",
    "\n",
    "import numpy as np\n",
    "\n",
    "class DCMotor:\n",
    "    def __init__(self, x):\n",
    "        self.params = x     \n",
    "        \n",
    "    def create_model(self):\n",
    "        self.A = np.array([[-self.params['B'] / self.params['J'], \n",
    "                            self.params['Ke']/self.params['J']],\n",
    "                           [-self.params['Ke'] / self.params['L'],\n",
    "                            -self.params['R'] / self.params['L']]])\n",
    "        \n",
    "        self.B = np.array([0,1/self.params['L']]).reshape((2,1))\n",
    "\n",
    "params_ana = {'J': 0.01,\n",
    "              'B': 0.1,\n",
    "              'Ke': 0.01,\n",
    "              'Kt': 0.01,\n",
    "              'R': 1,\n",
    "              'L': 0.5}\n",
    "\n",
    "params_ust = {'J': 0.02,\n",
    "              'B': 0.1,\n",
    "              'Ke': 0.07,\n",
    "              'Kt': 0.01,\n",
    "              'R': 1,\n",
    "              'L': 0.1}\n",
    "\n",
    "motor_ana = DCMotor(params_ana)\n",
    "motor_ust = DCMotor(params_ust)\n",
    "\n",
    "\n",
    "motor_ana.create_model()"
   ]
  }
 ],
 "metadata": {
  "kernelspec": {
   "display_name": "Python 3 (ipykernel)",
   "language": "python",
   "name": "python3"
  },
  "language_info": {
   "codemirror_mode": {
    "name": "ipython",
    "version": 3
   },
   "file_extension": ".py",
   "mimetype": "text/x-python",
   "name": "python",
   "nbconvert_exporter": "python",
   "pygments_lexer": "ipython3",
   "version": "3.8.13"
  }
 },
 "nbformat": 4,
 "nbformat_minor": 5
}
