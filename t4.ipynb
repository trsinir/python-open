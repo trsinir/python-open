{
 "cells": [
  {
   "cell_type": "markdown",
   "id": "3eb5fb8f",
   "metadata": {},
   "source": [
    "Sınıflar ve fonksiyonları içeren bir simülasyon \n",
    "\n",
    "DC motor hız simülasyonu:\n",
    "Euler integrasyon, durum uzay modeli"
   ]
  },
  {
   "cell_type": "code",
   "execution_count": null,
   "id": "d98ec15c",
   "metadata": {},
   "outputs": [],
   "source": []
  },
  {
   "cell_type": "markdown",
   "id": "4d5fc221",
   "metadata": {},
   "source": [
    "Simülasyon"
   ]
  },
  {
   "cell_type": "code",
   "execution_count": null,
   "id": "0dd3173b",
   "metadata": {},
   "outputs": [],
   "source": []
  },
  {
   "cell_type": "markdown",
   "id": "0c8a819b",
   "metadata": {},
   "source": [
    "Fonksiyonları Sınıfa Taşıma"
   ]
  },
  {
   "cell_type": "code",
   "execution_count": null,
   "id": "6191c71c",
   "metadata": {},
   "outputs": [],
   "source": []
  }
 ],
 "metadata": {
  "kernelspec": {
   "display_name": "Python 3 (ipykernel)",
   "language": "python",
   "name": "python3"
  },
  "language_info": {
   "codemirror_mode": {
    "name": "ipython",
    "version": 3
   },
   "file_extension": ".py",
   "mimetype": "text/x-python",
   "name": "python",
   "nbconvert_exporter": "python",
   "pygments_lexer": "ipython3",
   "version": "3.8.13"
  }
 },
 "nbformat": 4,
 "nbformat_minor": 5
}
