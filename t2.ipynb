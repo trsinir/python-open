{
 "cells": [
  {
   "cell_type": "markdown",
   "id": "7f208e80",
   "metadata": {},
   "source": [
    "TRSinir Python Notları\n",
    "20 Aralık 2022"
   ]
  },
  {
   "cell_type": "markdown",
   "id": "304a4a70",
   "metadata": {},
   "source": [
    "Listeler / Sözlükler"
   ]
  },
  {
   "cell_type": "code",
   "execution_count": 1,
   "id": "ac3f1df8",
   "metadata": {},
   "outputs": [],
   "source": [
    "# Liste, index 0'dan başlıyor\n",
    "a = [1, 2, 3, 4]\n",
    "p = a[2]\n",
    "n = len(a)"
   ]
  },
  {
   "cell_type": "code",
   "execution_count": null,
   "id": "e2acd3f2",
   "metadata": {},
   "outputs": [],
   "source": [
    "for e in a:\n",
    "    print(e)"
   ]
  },
  {
   "cell_type": "code",
   "execution_count": null,
   "id": "56e09c5b",
   "metadata": {},
   "outputs": [],
   "source": [
    "a = [1, 2, 3, 4, 5, 6, 7]\n",
    "\n",
    "for i in range(len(a)):\n",
    "    print(a[i])"
   ]
  },
  {
   "cell_type": "code",
   "execution_count": null,
   "id": "2c8fbdab",
   "metadata": {},
   "outputs": [],
   "source": [
    "# Sonsuz döngü fikri\n",
    "a = [1, 2, 3, 4, 5, 6, 7]\n",
    "\n",
    "i = 0\n",
    "while True:\n",
    "    print(a[i])\n",
    "    i += 1\n",
    "    \n",
    "    if i == 4:\n",
    "        break"
   ]
  },
  {
   "cell_type": "code",
   "execution_count": null,
   "id": "803343ec",
   "metadata": {},
   "outputs": [],
   "source": [
    "Numpy / Matplotlib\n",
    "#dizi oluşturma\n",
    "a = np.array([1,2,3])\n",
    "a2d = np.array([[1,2,3], [4,5,6], [7,8,9]])\n"
   ]
  },
  {
   "cell_type": "code",
   "execution_count": null,
   "id": "893f52f3",
   "metadata": {},
   "outputs": [],
   "source": [
    "#dizi oluşturma\n",
    "A = np.array([[1,2,3], [4,5,6], [7,8,9]])\n",
    "B = np.eye(3)\n",
    "\n",
    "# matris çarpımı\n",
    "C = A @ B\n",
    "D = np.matmul(A, B)\n",
    "\n",
    "# transpose\n",
    "E = A.T\n",
    "\n",
    "# matris tersi\n",
    "A_inv = np.linalg.inv(A)\n",
    "\n",
    "# matris determinant\n",
    "A_det = np.linalg.det(A)"
   ]
  },
  {
   "cell_type": "code",
   "execution_count": null,
   "id": "2dbb5d00",
   "metadata": {},
   "outputs": [],
   "source": [
    "# tuple: elemanları değişmeyen liste, 2 parantez arasında\n",
    "tup = (1,2,3)\n",
    "\n",
    "a = np.ones(4)\n",
    "b = np.zeros((5,5))\n",
    "c = np.arange(10)\n",
    "rastgele_sayilar = np.random.rand(5)"
   ]
  },
  {
   "cell_type": "markdown",
   "id": "614faa13",
   "metadata": {},
   "source": [
    "Dict"
   ]
  },
  {
   "cell_type": "code",
   "execution_count": null,
   "id": "f8be1a08",
   "metadata": {},
   "outputs": [],
   "source": [
    "state = {'w': np.random.rand(5)}\n",
    "w = state['w']"
   ]
  },
  {
   "cell_type": "code",
   "execution_count": null,
   "id": "7c2cb74c",
   "metadata": {},
   "outputs": [],
   "source": [
    "state = {'w': np.random.rand(5),\n",
    "         'no_in': 100,\n",
    "         'no_neurons': 1000}\n",
    "\n",
    "\n",
    "print(state['no_neurons'])"
   ]
  },
  {
   "cell_type": "code",
   "execution_count": null,
   "id": "a5816241",
   "metadata": {},
   "outputs": [],
   "source": []
  }
 ],
 "metadata": {
  "kernelspec": {
   "display_name": "Python 3 (ipykernel)",
   "language": "python",
   "name": "python3"
  },
  "language_info": {
   "codemirror_mode": {
    "name": "ipython",
    "version": 3
   },
   "file_extension": ".py",
   "mimetype": "text/x-python",
   "name": "python",
   "nbconvert_exporter": "python",
   "pygments_lexer": "ipython3",
   "version": "3.8.13"
  }
 },
 "nbformat": 4,
 "nbformat_minor": 5
}
