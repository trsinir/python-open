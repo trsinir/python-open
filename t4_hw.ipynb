{
 "cells": [
  {
   "cell_type": "markdown",
   "id": "f55a577a",
   "metadata": {},
   "source": [
    "Problemler"
   ]
  },
  {
   "cell_type": "markdown",
   "id": "2443e517",
   "metadata": {},
   "source": [
    "1. Liste Doldurma"
   ]
  },
  {
   "cell_type": "code",
   "execution_count": null,
   "id": "bbce9115",
   "metadata": {},
   "outputs": [],
   "source": []
  },
  {
   "cell_type": "markdown",
   "id": "8e87aed8",
   "metadata": {},
   "source": [
    "2. Arrayler"
   ]
  },
  {
   "cell_type": "code",
   "execution_count": null,
   "id": "403ef0cc",
   "metadata": {},
   "outputs": [],
   "source": []
  },
  {
   "cell_type": "markdown",
   "id": "75fbbc0a",
   "metadata": {},
   "source": [
    "3. Sınıf"
   ]
  },
  {
   "cell_type": "code",
   "execution_count": null,
   "id": "c9f82295",
   "metadata": {},
   "outputs": [],
   "source": []
  }
 ],
 "metadata": {
  "kernelspec": {
   "display_name": "Python 3 (ipykernel)",
   "language": "python",
   "name": "python3"
  },
  "language_info": {
   "codemirror_mode": {
    "name": "ipython",
    "version": 3
   },
   "file_extension": ".py",
   "mimetype": "text/x-python",
   "name": "python",
   "nbconvert_exporter": "python",
   "pygments_lexer": "ipython3",
   "version": "3.8.13"
  }
 },
 "nbformat": 4,
 "nbformat_minor": 5
}
